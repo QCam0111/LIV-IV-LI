{
 "cells": [
  {
   "cell_type": "code",
   "execution_count": 1,
   "metadata": {
    "scrolled": true
   },
   "outputs": [],
   "source": [
    "%matplotlib inline"
   ]
  },
  {
   "cell_type": "code",
   "execution_count": 2,
   "metadata": {
    "scrolled": false
   },
   "outputs": [
    {
     "data": {
      "application/vnd.jupyter.widget-view+json": {
       "model_id": "de27809d81054871873586fe46a40bbd",
       "version_major": 2,
       "version_minor": 0
      },
      "text/plain": [
       "VGFiKGNoaWxkcmVuPShCb3goY2hpbGRyZW49KERyb3Bkb3duKGRlc2NyaXB0aW9uPXUnQVYxMDExQiA6Jywgb3B0aW9ucz0odSdVU0IwOjoweDA5NTc6OjB4MTdBMjo6TVk1MTQ1MDM1NDo6SU7igKY=\n"
      ]
     },
     "metadata": {},
     "output_type": "display_data"
    },
    {
     "name": "stdout",
     "output_type": "stream",
     "text": [
      "Vertical scale for current channel:0.005\n",
      "Sweep failed. Please retry.\n"
     ]
    },
    {
     "ename": "IndexError",
     "evalue": "list index out of range",
     "output_type": "error",
     "traceback": [
      "\u001b[1;31m\u001b[0m",
      "\u001b[1;31mIndexError\u001b[0mTraceback (most recent call last)",
      "\u001b[1;32md:\\OPREL-GitHub\\LIV-IV-LI\\AVTECH_new_IV_scheme_III\\Test_Tool\\core.pyc\u001b[0m in \u001b[0;36mbut_fun\u001b[1;34m(btn)\u001b[0m\n\u001b[0;32m     22\u001b[0m         \u001b[1;32mexcept\u001b[0m \u001b[0mException\u001b[0m\u001b[1;33m,\u001b[0m \u001b[0me\u001b[0m\u001b[1;33m:\u001b[0m\u001b[1;33m\u001b[0m\u001b[0m\n\u001b[0;32m     23\u001b[0m             \u001b[1;32mprint\u001b[0m \u001b[1;34m\"Sweep failed. Please retry.\"\u001b[0m\u001b[1;33m\u001b[0m\u001b[0m\n\u001b[1;32m---> 24\u001b[1;33m             \u001b[1;32mraise\u001b[0m \u001b[0me\u001b[0m\u001b[1;33m\u001b[0m\u001b[0m\n\u001b[0m\u001b[0;32m     25\u001b[0m         \u001b[1;32mfinally\u001b[0m\u001b[1;33m:\u001b[0m\u001b[1;33m\u001b[0m\u001b[0m\n\u001b[0;32m     26\u001b[0m             \u001b[0mbtn\u001b[0m\u001b[1;33m.\u001b[0m\u001b[0mdescription\u001b[0m \u001b[1;33m=\u001b[0m \u001b[0morg_desc\u001b[0m\u001b[1;33m\u001b[0m\u001b[0m\n",
      "\u001b[1;31mIndexError\u001b[0m: list index out of range"
     ]
    }
   ],
   "source": [
    "import Test_Tool \n",
    "\n",
    "Test_Tool.show()\n",
    "\n"
   ]
  }
 ],
 "metadata": {
  "anaconda-cloud": {},
  "kernelspec": {
   "display_name": "Python 2.7.15 ('py27')",
   "language": "python",
   "name": "python3"
  },
  "language_info": {
   "codemirror_mode": {
    "name": "ipython",
    "version": 2
   },
   "file_extension": ".py",
   "mimetype": "text/x-python",
   "name": "python",
   "nbconvert_exporter": "python",
   "pygments_lexer": "ipython2",
   "version": "2.7.15"
  },
  "vscode": {
   "interpreter": {
    "hash": "ae5fb1a3f2012efd079cdd0189f4797a0b0918f5da9edd70a885f203dee184eb"
   }
  },
  "widgets": {
   "state": {
    "adfd138e0e0e4e12abdc5833164af016": {
     "views": [
      {
       "cell_index": 0
      }
     ]
    },
    "c0bf0c008c3e4367a1577df59cd07342": {
     "views": [
      {
       "cell_index": 0
      }
     ]
    },
    "ea9a72d931bd40319a03ba806b838410": {
     "views": [
      {
       "cell_index": 0
      }
     ]
    },
    "f30c96db232048d2ad56813b1db36558": {
     "views": [
      {
       "cell_index": 0
      }
     ]
    }
   },
   "version": "1.2.0"
  }
 },
 "nbformat": 4,
 "nbformat_minor": 2
}
